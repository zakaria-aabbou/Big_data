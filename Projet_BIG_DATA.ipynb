{
  "cells": [
    {
      "cell_type": "markdown",
      "metadata": {
        "colab_type": "text",
        "id": "view-in-github"
      },
      "source": [
        "<a href=\"https://colab.research.google.com/github/zakaria-aabbou/Big_data/blob/main/Projet_BIG_DATA.ipynb\" target=\"_parent\"><img src=\"https://colab.research.google.com/assets/colab-badge.svg\" alt=\"Open In Colab\"/></a>"
      ]
    },
    {
      "cell_type": "markdown",
      "metadata": {
        "id": "KFCJTVbflFTk"
      },
      "source": [
        "<h1><center>Projet BIG DATA</center>\n",
        "<br>\n",
        "<h3> M2 MLDS/AMSD - 2021-2022\n",
        "\n",
        "**Réalisé par:**\n",
        "\n",
        "\n",
        "\n",
        "\n",
        "*   AABBOU Zakaria\n",
        "\n",
        "\n",
        "\n"
      ]
    },
    {
      "cell_type": "markdown",
      "metadata": {
        "id": "r7CawmE1B-4k"
      },
      "source": [
        "## Contexte et objectifs"
      ]
    },
    {
      "cell_type": "markdown",
      "metadata": {
        "id": "UyEPlHI2CDBz"
      },
      "source": [
        "Lorsque les données sont très volumineuses, il n’est plus possible d’appliquer des\n",
        "méthodes qui supposent de les avoir toutes en mémoire en même temps sur une seule\n",
        "machine.\n",
        "\n",
        "Le but de ce projet est de voir plusieures méthodes qui visent le même objectif :\n",
        "classifier des points de manière non supervisée. K-means est choisi comme objet\n",
        "d’étude. Chaque partie correspond à une manière de l’implémenter, aucune n’est\n",
        "universellement meilleure que les autres puisque chacune fait des choix différents pour\n",
        "répondre à certaines contraintes."
      ]
    },
    {
      "cell_type": "markdown",
      "metadata": {
        "id": "Q-H1jFOGpXDx"
      },
      "source": [
        "# Installation : "
      ]
    },
    {
      "cell_type": "code",
      "execution_count": 1,
      "metadata": {
        "colab": {
          "base_uri": "https://localhost:8080/"
        },
        "id": "fDMHKMY7pWTR",
        "outputId": "4f16e10e-ac1f-4cda-c7d0-e11cf539bf22"
      },
      "outputs": [
        {
          "name": "stdout",
          "output_type": "stream",
          "text": [
            "Collecting apache-beam\n",
            "  Downloading apache_beam-2.43.0-cp37-cp37m-win_amd64.whl (4.5 MB)\n",
            "     ---------------------------------------- 4.5/4.5 MB 10.6 MB/s eta 0:00:00\n",
            "Collecting hdfs<3.0.0,>=2.1.0\n",
            "  Downloading hdfs-2.7.0-py3-none-any.whl (34 kB)\n",
            "Collecting zstandard<1,>=0.18.0\n",
            "  Downloading zstandard-0.19.0-cp37-cp37m-win_amd64.whl (612 kB)\n",
            "     ------------------------------------- 612.2/612.2 kB 18.8 MB/s eta 0:00:00\n",
            "Requirement already satisfied: regex>=2020.6.8 in c:\\users\\zakar\\appdata\\local\\programs\\python\\python37\\lib\\site-packages (from apache-beam) (2022.7.25)\n",
            "Collecting grpcio!=1.48.0,<2,>=1.33.1\n",
            "  Downloading grpcio-1.50.0-cp37-cp37m-win_amd64.whl (3.6 MB)\n",
            "     ---------------------------------------- 3.6/3.6 MB 17.8 MB/s eta 0:00:00\n",
            "Requirement already satisfied: pyarrow<10.0.0,>=0.15.1 in c:\\users\\zakar\\appdata\\local\\programs\\python\\python37\\lib\\site-packages (from apache-beam) (9.0.0)\n",
            "Collecting fastavro<2,>=0.23.6\n",
            "  Downloading fastavro-1.7.0-cp37-cp37m-win_amd64.whl (437 kB)\n",
            "     ------------------------------------- 437.2/437.2 kB 13.8 MB/s eta 0:00:00\n",
            "Requirement already satisfied: typing-extensions>=3.7.0 in c:\\users\\zakar\\appdata\\local\\programs\\python\\python37\\lib\\site-packages (from apache-beam) (3.10.0.2)\n",
            "Collecting objsize<0.6.0,>=0.5.2\n",
            "  Downloading objsize-0.5.2-py3-none-any.whl (8.2 kB)\n",
            "Requirement already satisfied: protobuf<4,>3.12.2 in c:\\users\\zakar\\appdata\\local\\programs\\python\\python37\\lib\\site-packages (from apache-beam) (3.20.1)\n",
            "Requirement already satisfied: requests<3.0.0,>=2.24.0 in c:\\users\\zakar\\appdata\\local\\programs\\python\\python37\\lib\\site-packages (from apache-beam) (2.28.1)\n",
            "Collecting cloudpickle~=2.2.0\n",
            "  Downloading cloudpickle-2.2.0-py3-none-any.whl (25 kB)\n",
            "Collecting pymongo<4.0.0,>=3.8.0\n",
            "  Downloading pymongo-3.13.0-cp37-cp37m-win_amd64.whl (394 kB)\n",
            "     ------------------------------------- 394.3/394.3 kB 12.4 MB/s eta 0:00:00\n",
            "Collecting dill<0.3.2,>=0.3.1.1\n",
            "  Downloading dill-0.3.1.1.tar.gz (151 kB)\n",
            "     -------------------------------------- 152.0/152.0 kB 8.9 MB/s eta 0:00:00\n",
            "  Preparing metadata (setup.py): started\n",
            "  Preparing metadata (setup.py): finished with status 'done'\n",
            "Collecting httplib2<0.21.0,>=0.8\n",
            "  Downloading httplib2-0.20.4-py3-none-any.whl (96 kB)\n",
            "     ---------------------------------------- 96.6/96.6 kB ? eta 0:00:00\n",
            "Collecting crcmod<2.0,>=1.7\n",
            "  Downloading crcmod-1.7.tar.gz (89 kB)\n",
            "     ---------------------------------------- 89.7/89.7 kB 5.0 MB/s eta 0:00:00\n",
            "  Preparing metadata (setup.py): started\n",
            "  Preparing metadata (setup.py): finished with status 'done'\n",
            "Requirement already satisfied: numpy<1.23.0,>=1.14.3 in c:\\users\\zakar\\appdata\\local\\programs\\python\\python37\\lib\\site-packages (from apache-beam) (1.21.6)\n",
            "Collecting proto-plus<2,>=1.7.1\n",
            "  Downloading proto_plus-1.22.1-py3-none-any.whl (47 kB)\n",
            "     ---------------------------------------- 47.9/47.9 kB ? eta 0:00:00\n",
            "Collecting pydot<2,>=1.2.0\n",
            "  Downloading pydot-1.4.2-py2.py3-none-any.whl (21 kB)\n",
            "Requirement already satisfied: python-dateutil<3,>=2.8.0 in c:\\users\\zakar\\appdata\\local\\programs\\python\\python37\\lib\\site-packages (from apache-beam) (2.8.2)\n",
            "Collecting orjson<4.0\n",
            "  Downloading orjson-3.8.1-cp37-none-win_amd64.whl (198 kB)\n",
            "     ------------------------------------- 198.7/198.7 kB 12.6 MB/s eta 0:00:00\n",
            "Collecting fasteners<1.0,>=0.3\n",
            "  Downloading fasteners-0.18-py3-none-any.whl (18 kB)\n",
            "Requirement already satisfied: pytz>=2018.3 in c:\\users\\zakar\\appdata\\local\\programs\\python\\python37\\lib\\site-packages (from apache-beam) (2022.1)\n",
            "Requirement already satisfied: six>=1.5.2 in c:\\users\\zakar\\appdata\\local\\programs\\python\\python37\\lib\\site-packages (from grpcio!=1.48.0,<2,>=1.33.1->apache-beam) (1.16.0)\n",
            "Collecting docopt\n",
            "  Downloading docopt-0.6.2.tar.gz (25 kB)\n",
            "  Preparing metadata (setup.py): started\n",
            "  Preparing metadata (setup.py): finished with status 'done'\n",
            "Requirement already satisfied: pyparsing!=3.0.0,!=3.0.1,!=3.0.2,!=3.0.3,<4,>=2.4.2 in c:\\users\\zakar\\appdata\\local\\programs\\python\\python37\\lib\\site-packages (from httplib2<0.21.0,>=0.8->apache-beam) (3.0.9)\n",
            "Requirement already satisfied: idna<4,>=2.5 in c:\\users\\zakar\\appdata\\local\\programs\\python\\python37\\lib\\site-packages (from requests<3.0.0,>=2.24.0->apache-beam) (3.3)\n",
            "Requirement already satisfied: charset-normalizer<3,>=2 in c:\\users\\zakar\\appdata\\local\\programs\\python\\python37\\lib\\site-packages (from requests<3.0.0,>=2.24.0->apache-beam) (2.1.0)\n",
            "Requirement already satisfied: urllib3<1.27,>=1.21.1 in c:\\users\\zakar\\appdata\\local\\programs\\python\\python37\\lib\\site-packages (from requests<3.0.0,>=2.24.0->apache-beam) (1.26.11)\n",
            "Requirement already satisfied: certifi>=2017.4.17 in c:\\users\\zakar\\appdata\\local\\programs\\python\\python37\\lib\\site-packages (from requests<3.0.0,>=2.24.0->apache-beam) (2022.6.15)\n",
            "Using legacy 'setup.py install' for crcmod, since package 'wheel' is not installed.\n",
            "Using legacy 'setup.py install' for dill, since package 'wheel' is not installed.\n",
            "Using legacy 'setup.py install' for docopt, since package 'wheel' is not installed.\n",
            "Installing collected packages: docopt, crcmod, zstandard, pymongo, pydot, proto-plus, orjson, objsize, httplib2, grpcio, fasteners, fastavro, dill, cloudpickle, hdfs, apache-beam\n",
            "  Running setup.py install for docopt: started\n",
            "  Running setup.py install for docopt: finished with status 'done'\n",
            "  Running setup.py install for crcmod: started\n",
            "  Running setup.py install for crcmod: finished with status 'done'\n",
            "  Running setup.py install for dill: started\n",
            "  Running setup.py install for dill: finished with status 'done'\n",
            "Successfully installed apache-beam-2.43.0 cloudpickle-2.2.0 crcmod-1.7 dill-0.3.1.1 docopt-0.6.2 fastavro-1.7.0 fasteners-0.18 grpcio-1.50.0 hdfs-2.7.0 httplib2-0.20.4 objsize-0.5.2 orjson-3.8.1 proto-plus-1.22.1 pydot-1.4.2 pymongo-3.13.0 zstandard-0.19.0\n"
          ]
        },
        {
          "name": "stderr",
          "output_type": "stream",
          "text": [
            "\n",
            "[notice] A new release of pip available: 22.2.2 -> 22.3.1\n",
            "[notice] To update, run: python.exe -m pip install --upgrade pip\n"
          ]
        }
      ],
      "source": [
        "!pip install apache-beam"
      ]
    },
    {
      "cell_type": "code",
      "execution_count": null,
      "metadata": {
        "colab": {
          "base_uri": "https://localhost:8080/"
        },
        "id": "tUnAYazKpWcw",
        "outputId": "69f3e407-7247-4f17-be6f-31e8a95e1578"
      },
      "outputs": [
        {
          "name": "stdout",
          "output_type": "stream",
          "text": [
            "Requirement already satisfied: apache-beam[interactive] in /usr/local/lib/python3.7/dist-packages (2.36.0)\n",
            "Requirement already satisfied: hdfs<3.0.0,>=2.1.0 in /usr/local/lib/python3.7/dist-packages (from apache-beam[interactive]) (2.6.0)\n",
            "Requirement already satisfied: oauth2client<5,>=2.0.1 in /usr/local/lib/python3.7/dist-packages (from apache-beam[interactive]) (4.1.3)\n",
            "Requirement already satisfied: typing-extensions>=3.7.0 in /usr/local/lib/python3.7/dist-packages (from apache-beam[interactive]) (3.10.0.2)\n",
            "Requirement already satisfied: dill<0.3.2,>=0.3.1.1 in /usr/local/lib/python3.7/dist-packages (from apache-beam[interactive]) (0.3.1.1)\n",
            "Requirement already satisfied: pyarrow<7.0.0,>=0.15.1 in /usr/local/lib/python3.7/dist-packages (from apache-beam[interactive]) (6.0.1)\n",
            "Requirement already satisfied: orjson<4.0 in /usr/local/lib/python3.7/dist-packages (from apache-beam[interactive]) (3.6.7)\n",
            "Requirement already satisfied: httplib2<0.20.0,>=0.8 in /usr/local/lib/python3.7/dist-packages (from apache-beam[interactive]) (0.17.4)\n",
            "Requirement already satisfied: protobuf<4,>=3.12.2 in /usr/local/lib/python3.7/dist-packages (from apache-beam[interactive]) (3.19.4)\n",
            "Requirement already satisfied: crcmod<2.0,>=1.7 in /usr/local/lib/python3.7/dist-packages (from apache-beam[interactive]) (1.7)\n",
            "Requirement already satisfied: pymongo<4.0.0,>=3.8.0 in /usr/local/lib/python3.7/dist-packages (from apache-beam[interactive]) (3.12.3)\n",
            "Requirement already satisfied: requests<3.0.0,>=2.24.0 in /usr/local/lib/python3.7/dist-packages (from apache-beam[interactive]) (2.27.1)\n",
            "Requirement already satisfied: cloudpickle<3,>=2.0.0 in /usr/local/lib/python3.7/dist-packages (from apache-beam[interactive]) (2.0.0)\n",
            "Requirement already satisfied: pydot<2,>=1.2.0 in /usr/local/lib/python3.7/dist-packages (from apache-beam[interactive]) (1.3.0)\n",
            "Requirement already satisfied: numpy<1.22.0,>=1.14.3 in /usr/local/lib/python3.7/dist-packages (from apache-beam[interactive]) (1.21.5)\n",
            "Requirement already satisfied: pytz>=2018.3 in /usr/local/lib/python3.7/dist-packages (from apache-beam[interactive]) (2018.9)\n",
            "Requirement already satisfied: grpcio<2,>=1.29.0 in /usr/local/lib/python3.7/dist-packages (from apache-beam[interactive]) (1.44.0)\n",
            "Requirement already satisfied: python-dateutil<3,>=2.8.0 in /usr/local/lib/python3.7/dist-packages (from apache-beam[interactive]) (2.8.2)\n",
            "Requirement already satisfied: fastavro<2,>=0.21.4 in /usr/local/lib/python3.7/dist-packages (from apache-beam[interactive]) (1.4.9)\n",
            "Requirement already satisfied: proto-plus<2,>=1.7.1 in /usr/local/lib/python3.7/dist-packages (from apache-beam[interactive]) (1.20.3)\n",
            "Requirement already satisfied: ipython<8,>=7 in /usr/local/lib/python3.7/dist-packages (from apache-beam[interactive]) (7.32.0)\n",
            "Requirement already satisfied: ipykernel<6,>=5.2.0 in /usr/local/lib/python3.7/dist-packages (from apache-beam[interactive]) (5.5.6)\n",
            "Requirement already satisfied: timeloop<2,>=1.0.2 in /usr/local/lib/python3.7/dist-packages (from apache-beam[interactive]) (1.0.2)\n",
            "Requirement already satisfied: facets-overview<2,>=1.0.0 in /usr/local/lib/python3.7/dist-packages (from apache-beam[interactive]) (1.0.0)\n",
            "Requirement already satisfied: jupyter-client<6.1.13,>=6.1.11 in /usr/local/lib/python3.7/dist-packages (from apache-beam[interactive]) (6.1.12)\n",
            "Requirement already satisfied: ipywidgets<8,>=7.6.5 in /usr/local/lib/python3.7/dist-packages (from apache-beam[interactive]) (7.6.5)\n",
            "Requirement already satisfied: pandas>=0.22.0 in /usr/local/lib/python3.7/dist-packages (from facets-overview<2,>=1.0.0->apache-beam[interactive]) (1.3.5)\n",
            "Requirement already satisfied: six>=1.5.2 in /usr/local/lib/python3.7/dist-packages (from grpcio<2,>=1.29.0->apache-beam[interactive]) (1.15.0)\n",
            "Requirement already satisfied: docopt in /usr/local/lib/python3.7/dist-packages (from hdfs<3.0.0,>=2.1.0->apache-beam[interactive]) (0.6.2)\n",
            "Requirement already satisfied: ipython-genutils in /usr/local/lib/python3.7/dist-packages (from ipykernel<6,>=5.2.0->apache-beam[interactive]) (0.2.0)\n",
            "Requirement already satisfied: tornado>=4.2 in /usr/local/lib/python3.7/dist-packages (from ipykernel<6,>=5.2.0->apache-beam[interactive]) (5.1.1)\n",
            "Requirement already satisfied: traitlets>=4.1.0 in /usr/local/lib/python3.7/dist-packages (from ipykernel<6,>=5.2.0->apache-beam[interactive]) (5.1.1)\n",
            "Requirement already satisfied: prompt-toolkit!=3.0.0,!=3.0.1,<3.1.0,>=2.0.0 in /usr/local/lib/python3.7/dist-packages (from ipython<8,>=7->apache-beam[interactive]) (3.0.28)\n",
            "Requirement already satisfied: jedi>=0.16 in /usr/local/lib/python3.7/dist-packages (from ipython<8,>=7->apache-beam[interactive]) (0.18.1)\n",
            "Requirement already satisfied: pexpect>4.3 in /usr/local/lib/python3.7/dist-packages (from ipython<8,>=7->apache-beam[interactive]) (4.8.0)\n",
            "Requirement already satisfied: pygments in /usr/local/lib/python3.7/dist-packages (from ipython<8,>=7->apache-beam[interactive]) (2.6.1)\n",
            "Requirement already satisfied: setuptools>=18.5 in /usr/local/lib/python3.7/dist-packages (from ipython<8,>=7->apache-beam[interactive]) (57.4.0)\n",
            "Requirement already satisfied: pickleshare in /usr/local/lib/python3.7/dist-packages (from ipython<8,>=7->apache-beam[interactive]) (0.7.5)\n",
            "Requirement already satisfied: backcall in /usr/local/lib/python3.7/dist-packages (from ipython<8,>=7->apache-beam[interactive]) (0.2.0)\n",
            "Requirement already satisfied: matplotlib-inline in /usr/local/lib/python3.7/dist-packages (from ipython<8,>=7->apache-beam[interactive]) (0.1.3)\n",
            "Requirement already satisfied: decorator in /usr/local/lib/python3.7/dist-packages (from ipython<8,>=7->apache-beam[interactive]) (4.4.2)\n",
            "Requirement already satisfied: widgetsnbextension~=3.5.0 in /usr/local/lib/python3.7/dist-packages (from ipywidgets<8,>=7.6.5->apache-beam[interactive]) (3.5.2)\n",
            "Requirement already satisfied: nbformat>=4.2.0 in /usr/local/lib/python3.7/dist-packages (from ipywidgets<8,>=7.6.5->apache-beam[interactive]) (5.1.3)\n",
            "Requirement already satisfied: jupyterlab-widgets>=1.0.0 in /usr/local/lib/python3.7/dist-packages (from ipywidgets<8,>=7.6.5->apache-beam[interactive]) (1.0.2)\n",
            "Requirement already satisfied: parso<0.9.0,>=0.8.0 in /usr/local/lib/python3.7/dist-packages (from jedi>=0.16->ipython<8,>=7->apache-beam[interactive]) (0.8.3)\n",
            "Requirement already satisfied: jupyter-core>=4.6.0 in /usr/local/lib/python3.7/dist-packages (from jupyter-client<6.1.13,>=6.1.11->apache-beam[interactive]) (4.9.2)\n",
            "Requirement already satisfied: pyzmq>=13 in /usr/local/lib/python3.7/dist-packages (from jupyter-client<6.1.13,>=6.1.11->apache-beam[interactive]) (22.3.0)\n",
            "Requirement already satisfied: jsonschema!=2.5.0,>=2.4 in /usr/local/lib/python3.7/dist-packages (from nbformat>=4.2.0->ipywidgets<8,>=7.6.5->apache-beam[interactive]) (4.3.3)\n",
            "Requirement already satisfied: importlib-metadata in /usr/local/lib/python3.7/dist-packages (from jsonschema!=2.5.0,>=2.4->nbformat>=4.2.0->ipywidgets<8,>=7.6.5->apache-beam[interactive]) (4.11.1)\n",
            "Requirement already satisfied: importlib-resources>=1.4.0 in /usr/local/lib/python3.7/dist-packages (from jsonschema!=2.5.0,>=2.4->nbformat>=4.2.0->ipywidgets<8,>=7.6.5->apache-beam[interactive]) (5.4.0)\n",
            "Requirement already satisfied: pyrsistent!=0.17.0,!=0.17.1,!=0.17.2,>=0.14.0 in /usr/local/lib/python3.7/dist-packages (from jsonschema!=2.5.0,>=2.4->nbformat>=4.2.0->ipywidgets<8,>=7.6.5->apache-beam[interactive]) (0.18.1)\n",
            "Requirement already satisfied: attrs>=17.4.0 in /usr/local/lib/python3.7/dist-packages (from jsonschema!=2.5.0,>=2.4->nbformat>=4.2.0->ipywidgets<8,>=7.6.5->apache-beam[interactive]) (21.4.0)\n",
            "Requirement already satisfied: zipp>=3.1.0 in /usr/local/lib/python3.7/dist-packages (from importlib-resources>=1.4.0->jsonschema!=2.5.0,>=2.4->nbformat>=4.2.0->ipywidgets<8,>=7.6.5->apache-beam[interactive]) (3.7.0)\n",
            "Requirement already satisfied: rsa>=3.1.4 in /usr/local/lib/python3.7/dist-packages (from oauth2client<5,>=2.0.1->apache-beam[interactive]) (4.8)\n",
            "Requirement already satisfied: pyasn1-modules>=0.0.5 in /usr/local/lib/python3.7/dist-packages (from oauth2client<5,>=2.0.1->apache-beam[interactive]) (0.2.8)\n",
            "Requirement already satisfied: pyasn1>=0.1.7 in /usr/local/lib/python3.7/dist-packages (from oauth2client<5,>=2.0.1->apache-beam[interactive]) (0.4.8)\n",
            "Requirement already satisfied: ptyprocess>=0.5 in /usr/local/lib/python3.7/dist-packages (from pexpect>4.3->ipython<8,>=7->apache-beam[interactive]) (0.7.0)\n",
            "Requirement already satisfied: wcwidth in /usr/local/lib/python3.7/dist-packages (from prompt-toolkit!=3.0.0,!=3.0.1,<3.1.0,>=2.0.0->ipython<8,>=7->apache-beam[interactive]) (0.2.5)\n",
            "Requirement already satisfied: pyparsing>=2.1.4 in /usr/local/lib/python3.7/dist-packages (from pydot<2,>=1.2.0->apache-beam[interactive]) (3.0.7)\n",
            "Requirement already satisfied: idna<4,>=2.5 in /usr/local/lib/python3.7/dist-packages (from requests<3.0.0,>=2.24.0->apache-beam[interactive]) (2.10)\n",
            "Requirement already satisfied: urllib3<1.27,>=1.21.1 in /usr/local/lib/python3.7/dist-packages (from requests<3.0.0,>=2.24.0->apache-beam[interactive]) (1.24.3)\n",
            "Requirement already satisfied: charset-normalizer~=2.0.0 in /usr/local/lib/python3.7/dist-packages (from requests<3.0.0,>=2.24.0->apache-beam[interactive]) (2.0.12)\n",
            "Requirement already satisfied: certifi>=2017.4.17 in /usr/local/lib/python3.7/dist-packages (from requests<3.0.0,>=2.24.0->apache-beam[interactive]) (2021.10.8)\n",
            "Requirement already satisfied: notebook>=4.4.1 in /usr/local/lib/python3.7/dist-packages (from widgetsnbextension~=3.5.0->ipywidgets<8,>=7.6.5->apache-beam[interactive]) (5.3.1)\n",
            "Requirement already satisfied: jinja2 in /usr/local/lib/python3.7/dist-packages (from notebook>=4.4.1->widgetsnbextension~=3.5.0->ipywidgets<8,>=7.6.5->apache-beam[interactive]) (2.11.3)\n",
            "Requirement already satisfied: Send2Trash in /usr/local/lib/python3.7/dist-packages (from notebook>=4.4.1->widgetsnbextension~=3.5.0->ipywidgets<8,>=7.6.5->apache-beam[interactive]) (1.8.0)\n",
            "Requirement already satisfied: nbconvert in /usr/local/lib/python3.7/dist-packages (from notebook>=4.4.1->widgetsnbextension~=3.5.0->ipywidgets<8,>=7.6.5->apache-beam[interactive]) (5.6.1)\n",
            "Requirement already satisfied: terminado>=0.8.1 in /usr/local/lib/python3.7/dist-packages (from notebook>=4.4.1->widgetsnbextension~=3.5.0->ipywidgets<8,>=7.6.5->apache-beam[interactive]) (0.13.1)\n",
            "Requirement already satisfied: MarkupSafe>=0.23 in /usr/local/lib/python3.7/dist-packages (from jinja2->notebook>=4.4.1->widgetsnbextension~=3.5.0->ipywidgets<8,>=7.6.5->apache-beam[interactive]) (2.0.1)\n",
            "Requirement already satisfied: mistune<2,>=0.8.1 in /usr/local/lib/python3.7/dist-packages (from nbconvert->notebook>=4.4.1->widgetsnbextension~=3.5.0->ipywidgets<8,>=7.6.5->apache-beam[interactive]) (0.8.4)\n",
            "Requirement already satisfied: testpath in /usr/local/lib/python3.7/dist-packages (from nbconvert->notebook>=4.4.1->widgetsnbextension~=3.5.0->ipywidgets<8,>=7.6.5->apache-beam[interactive]) (0.5.0)\n",
            "Requirement already satisfied: defusedxml in /usr/local/lib/python3.7/dist-packages (from nbconvert->notebook>=4.4.1->widgetsnbextension~=3.5.0->ipywidgets<8,>=7.6.5->apache-beam[interactive]) (0.7.1)\n",
            "Requirement already satisfied: entrypoints>=0.2.2 in /usr/local/lib/python3.7/dist-packages (from nbconvert->notebook>=4.4.1->widgetsnbextension~=3.5.0->ipywidgets<8,>=7.6.5->apache-beam[interactive]) (0.4)\n",
            "Requirement already satisfied: bleach in /usr/local/lib/python3.7/dist-packages (from nbconvert->notebook>=4.4.1->widgetsnbextension~=3.5.0->ipywidgets<8,>=7.6.5->apache-beam[interactive]) (4.1.0)\n",
            "Requirement already satisfied: pandocfilters>=1.4.1 in /usr/local/lib/python3.7/dist-packages (from nbconvert->notebook>=4.4.1->widgetsnbextension~=3.5.0->ipywidgets<8,>=7.6.5->apache-beam[interactive]) (1.5.0)\n",
            "Requirement already satisfied: webencodings in /usr/local/lib/python3.7/dist-packages (from bleach->nbconvert->notebook>=4.4.1->widgetsnbextension~=3.5.0->ipywidgets<8,>=7.6.5->apache-beam[interactive]) (0.5.1)\n",
            "Requirement already satisfied: packaging in /usr/local/lib/python3.7/dist-packages (from bleach->nbconvert->notebook>=4.4.1->widgetsnbextension~=3.5.0->ipywidgets<8,>=7.6.5->apache-beam[interactive]) (21.3)\n"
          ]
        }
      ],
      "source": [
        "!pip install apache-beam[interactive]"
      ]
    },
    {
      "cell_type": "markdown",
      "metadata": {
        "id": "ruky3K3MpOTp"
      },
      "source": [
        "# Libraries :"
      ]
    },
    {
      "cell_type": "code",
      "execution_count": null,
      "metadata": {
        "id": "nlxP-MnOpQt1"
      },
      "outputs": [],
      "source": [
        "import math\n",
        "import csv\n",
        "import pandas as pd\n",
        "import time\n",
        "import numpy as np\n",
        "import collections\n",
        "from sklearn.cluster import KMeans\n",
        "from sklearn.metrics.cluster import adjusted_rand_score\n",
        "from sklearn.metrics import accuracy_score\n",
        "from sklearn.metrics import normalized_mutual_info_score"
      ]
    },
    {
      "cell_type": "code",
      "execution_count": null,
      "metadata": {
        "id": "3niucAGjpgU5"
      },
      "outputs": [],
      "source": [
        "import numpy as np\n",
        "import pandas as pd\n",
        "import matplotlib.pyplot as plt\n",
        "%matplotlib inline"
      ]
    },
    {
      "cell_type": "code",
      "execution_count": null,
      "metadata": {
        "id": "6eNV7FLkIz85"
      },
      "outputs": [],
      "source": [
        "import apache_beam as beam\n",
        "from apache_beam import pvalue\n",
        "from apache_beam import Create, FlatMap, Map, ParDo, Flatten, Partition\n",
        "from apache_beam import Values, CoGroupByKey\n",
        "from apache_beam import pvalue, window, WindowInto\n",
        "from apache_beam.transforms import trigger\n",
        "\n",
        "from apache_beam.runners.interactive.interactive_runner import InteractiveRunner\n",
        "import apache_beam.runners.interactive.interactive_beam as ib\n",
        "\n",
        "import time\n",
        "import numpy as np\n",
        "import random"
      ]
    },
    {
      "cell_type": "markdown",
      "metadata": {
        "id": "ar5bqFhVlFYt"
      },
      "source": [
        "#**A. Implémentation de k-means séquentiel (Python)**"
      ]
    },
    {
      "cell_type": "markdown",
      "metadata": {
        "id": "0jDkz-bnp1j8"
      },
      "source": [
        "## génération du jeu de données :"
      ]
    },
    {
      "cell_type": "markdown",
      "metadata": {
        "id": "vzaTNZp0Cflb"
      },
      "source": [
        "On va générer un jeu de données consistant en des points répartis en deux classes. On va générer une première classe de 100 points répartis à\n",
        "proximité d’un centroïde de coordonnées (5, 5) et une autre classe où 100 points\n",
        "sont autour des coordonnées (10, 10). apres on enregistre ces données dans un fichier au format CSV."
      ]
    },
    {
      "cell_type": "code",
      "execution_count": null,
      "metadata": {
        "id": "TUasdoqKgaYO"
      },
      "outputs": [],
      "source": [
        "# génération des données en utilisant comme centroides \" moyenne\" 5 et 10 avec une marge de 3 \n",
        "# on peut faire des tests sur plusieurs datasets en changeant les parametres : \n",
        "data_set1 = np.random.normal(5, 1, size=(100, 2))   # classe de 100 points répartis à proximité d’un centroïde de coordonnées (5, 5)\n",
        "data_set2 = np.random.normal(10, 1, size=(100, 2))  # classe où 100 points sont autour des coordonnées (10, 10)"
      ]
    },
    {
      "cell_type": "code",
      "execution_count": null,
      "metadata": {
        "id": "66CdB8xTjLzP"
      },
      "outputs": [],
      "source": [
        "data = np.concatenate([data_set1, data_set2]) # concaténer les deux ensembles de points afin de les visualiser"
      ]
    },
    {
      "cell_type": "code",
      "execution_count": null,
      "metadata": {
        "colab": {
          "base_uri": "https://localhost:8080/",
          "height": 282
        },
        "id": "-PLu1OtggcQF",
        "outputId": "3ebffa5c-bd92-4a13-9aa5-18f6c35dc40c"
      },
      "outputs": [
        {
          "data": {
            "text/plain": [
              "<matplotlib.collections.PathCollection at 0x7f44ef6f9810>"
            ]
          },
          "execution_count": 8,
          "metadata": {},
          "output_type": "execute_result"
        },
        {
          "data": {
            "image/png": "[encoded data removed]",
            "text/plain": [
              "<Figure size 432x288 with 1 Axes>"
            ]
          },
          "metadata": {
            "needs_background": "light"
          },
          "output_type": "display_data"
        }
      ],
      "source": [
        "plt.scatter(data[:,0],data[:,1]) # visualiser les données"
      ]
    },
    {
      "cell_type": "code",
      "execution_count": null,
      "metadata": {
        "id": "-fIUT48Hp9FC"
      },
      "outputs": [],
      "source": [
        "np.savetxt('data.csv',data, delimiter=',') # Enregistrer les données dans un fichier au format CSV."
      ]
    },
    {
      "cell_type": "code",
      "execution_count": null,
      "metadata": {
        "id": "0kR5wEUFnwOj"
      },
      "outputs": [],
      "source": [
        "# Avec cette fonction, les données peuvent être converties dans un format compressé (string to float)\n",
        "def transform_csv_data(string):\n",
        "    val = string.split(\",\")\n",
        "    for i, x in enumerate(val):\n",
        "        val[i] = float(x)\n",
        "    return val"
      ]
    },
    {
      "cell_type": "code",
      "execution_count": null,
      "metadata": {
        "colab": {
          "base_uri": "https://localhost:8080/"
        },
        "id": "aAFBOtEao5xq",
        "outputId": "adf2fef1-813f-49bc-9da8-6f8db1eb34b6"
      },
      "outputs": [
        {
          "name": "stdout",
          "output_type": "stream",
          "text": [
            "[5.440181239854546, 6.091191836301112]\n",
            "[4.189456491959004, 3.7896665750166507]\n",
            "[5.030309523566708, 3.915606811356205]\n",
            "[3.955869476759772, 4.868273287623368]\n",
            "[3.7591853957796757, 4.8910541162097525]\n",
            "[7.291047333063579, 4.158599250372483]\n",
            "[4.9409969921868555, 4.7007063016472745]\n",
            "[5.049759698405416, 4.907877732276096]\n",
            "[6.459228926944457, 5.600662360770788]\n",
            "[5.065242648697913, 6.05123004710965]\n",
            "[5.814865537389385, 5.5962022643638765]\n",
            "[5.761916041578479, 5.2126804661172335]\n",
            "[6.23788324830425, 5.427099595533988]\n",
            "[6.211783394236591, 7.622093911417196]\n",
            "[4.857305724530571, 4.092524600120603]\n",
            "[5.514812288171289, 3.8886468798226033]\n",
            "[6.281466182627461, 5.935494621068395]\n",
            "[4.770098849757492, 4.003769571805323]\n",
            "[4.450301760327099, 3.0964700170312733]\n",
            "[5.560483863457799, 3.79275175895198]\n",
            "[4.693831450889075, 4.7836486037537576]\n",
            "[3.557157769779969, 4.303957801080653]\n",
            "[5.3236681686311895, 5.038748202562152]\n",
            "[4.7924796645026095, 4.292816960912219]\n",
            "[4.882217150741421, 5.718006055953211]\n",
            "[3.4232555738809802, 2.839005039947798]\n",
            "[3.3075352710731645, 3.578947204025985]\n",
            "[4.17328320353006, 6.059361475568419]\n",
            "[4.586066368821876, 4.916178078627285]\n",
            "[6.573966918598641, 3.853929851815999]\n",
            "[5.86329696405563, 5.521339500824473]\n",
            "[5.492584737996432, 4.037466043328796]\n",
            "[5.7541130674414545, 4.372703619019202]\n",
            "[6.570965928050791, 6.962715498274318]\n",
            "[4.474121044052943, 5.7670111371269694]\n",
            "[6.026390556583494, 3.611643031145004]\n",
            "[5.736425208391821, 4.438595251291005]\n",
            "[3.0212936746445376, 6.346682196174645]\n",
            "[3.0773202401152036, 5.813949225879062]\n",
            "[3.3401967895707747, 4.126823076692076]\n",
            "[3.467598532919821, 3.768840149421538]\n",
            "[5.307069850860891, 7.274523650224102]\n",
            "[3.6824474271769683, 3.805359569211583]\n",
            "[3.9433741080521982, 5.3362681809733585]\n",
            "[5.639298575668856, 4.364187565147443]\n",
            "[4.637316011400363, 6.379510132254171]\n",
            "[3.532975287549178, 4.146121637873238]\n",
            "[5.909904523613001, 6.25218114995493]\n",
            "[3.4295354771197353, 5.383693940673996]\n",
            "[6.936777697952367, 4.401366278232783]\n",
            "[4.089543792067609, 4.980178278530421]\n",
            "[4.722994208613148, 4.931609991874234]\n",
            "[3.917945398260078, 6.306041446306207]\n",
            "[4.261403801901892, 3.5676872815817973]\n",
            "[4.939327788213501, 5.369344546558348]\n",
            "[5.428548035566867, 5.7046209043806995]\n",
            "[4.604151947324377, 3.907215135707425]\n",
            "[4.712560636499387, 3.7357115462325057]\n",
            "[4.694630141564357, 5.042905906644731]\n",
            "[6.004465211971677, 4.092265582246545]\n",
            "[5.972549262934903, 3.4247552650683506]\n",
            "[5.155563036168841, 2.9830573244443364]\n",
            "[5.2965755029479045, 7.347267110306397]\n",
            "[6.253245624298803, 5.02417120184871]\n",
            "[5.399889709478051, 4.698821823231506]\n",
            "[4.341302987389925, 6.229646438362511]\n",
            "[6.452840300231191, 3.620082349738806]\n",
            "[4.825765069994175, 4.1914992610900965]\n",
            "[6.029750348598872, 6.276952353759139]\n",
            "[6.203396768842028, 4.40664613609368]\n",
            "[3.96752189492575, 4.408002308418055]\n",
            "[5.351504138995818, 5.415983485703036]\n",
            "[5.407970474849854, 5.158733274031959]\n",
            "[6.4284234354455165, 5.772054217191267]\n",
            "[7.054202506609883, 3.4183080048972494]\n",
            "[6.248717676170387, 4.209115303638469]\n",
            "[3.4191467279957277, 4.821341525787262]\n",
            "[5.46268445090951, 6.778088846353807]\n",
            "[3.6733666582398663, 6.098209430593]\n",
            "[5.285631704591859, 4.751443657939473]\n",
            "[5.2260708592894005, 5.541017874164267]\n",
            "[5.388006968808018, 2.4812811454208656]\n",
            "[5.748898834699643, 6.178556539186593]\n",
            "[5.30742165805827, 4.600603737895581]\n",
            "[5.558067911996252, 5.397378694951105]\n",
            "[4.068419416625644, 4.711580474747793]\n",
            "[2.0179670005152586, 3.6209473300754773]\n",
            "[5.433098180204501, 4.9980883639602425]\n",
            "[5.461667514532526, 4.568736632878162]\n",
            "[4.352102107912623, 6.011942380826532]\n",
            "[4.566156501209551, 4.3787556762427275]\n",
            "[5.51875474289772, 4.104590423635272]\n",
            "[4.28889144040929, 5.205962853650433]\n",
            "[3.4851831873501897, 4.713675217508871]\n",
            "[4.1086662296268095, 5.49659611390599]\n",
            "[4.442344570460623, 4.5413405176814745]\n",
            "[3.0286311865622, 3.2829908981479665]\n",
            "[4.633735678639794, 4.609184082799933]\n",
            "[6.065149365887205, 5.473263428707989]\n",
            "[4.583027155743288, 4.447904867340057]\n",
            "[11.625121654230144, 10.980553241243747]\n",
            "[8.88830596338523, 10.963667096460549]\n",
            "[10.694841387433673, 10.661075317697636]\n",
            "[10.592329227981304, 10.688808276794811]\n",
            "[10.929495545387198, 9.89415384593374]\n",
            "[10.62249567417382, 11.602410266386155]\n",
            "[9.089254926062349, 9.483666460924397]\n",
            "[10.26975074852966, 8.739716170991143]\n",
            "[9.100707454087482, 10.309639980028367]\n",
            "[10.516685531419139, 8.874392270615864]\n",
            "[9.531748225176283, 10.996493108772972]\n",
            "[8.425438488853283, 9.452430860392234]\n",
            "[9.863953967230968, 10.310998854372865]\n",
            "[10.926409331279615, 9.637029455015462]\n",
            "[9.892764203591051, 10.035168253675163]\n",
            "[11.49788822651502, 10.834541760454632]\n",
            "[11.44755106577398, 10.206212003266668]\n",
            "[10.643651975924156, 9.654241369365936]\n",
            "[10.703208113845351, 9.598907659137689]\n",
            "[11.797812830426768, 10.48657947594519]\n",
            "[11.10709334407656, 8.632712676941116]\n",
            "[9.39980517129212, 9.990185203253727]\n",
            "[9.968310129283692, 9.702076957877388]\n",
            "[10.92112150799962, 9.479275688978205]\n",
            "[9.19039379378878, 9.21579853230934]\n",
            "[9.938668111747551, 10.741296482036658]\n",
            "[10.331375487431703, 9.970811426498503]\n",
            "[10.03017691550966, 10.182502914240477]\n",
            "[9.776538791132426, 9.85989880304361]\n",
            "[9.673946000433443, 9.826037680809703]\n",
            "[11.253074158137732, 11.219855272442752]\n",
            "[9.48151353256137, 9.578594473751918]\n",
            "[11.118909648454569, 10.399907858389707]\n",
            "[8.855594645744212, 9.726083841287952]\n",
            "[10.963432330503307, 9.731709573667727]\n",
            "[9.109552727645484, 11.191921267410283]\n",
            "[9.640520206943652, 8.19599735691277]\n",
            "[9.354515139786109, 9.695102933584176]\n",
            "[11.314310625170775, 10.557674772365901]\n",
            "[10.24975284010838, 10.655015495611432]\n",
            "[9.95310502184586, 8.915405563631962]\n",
            "[10.641383186163903, 10.399987964010606]\n",
            "[12.535329906140175, 9.545425401076768]\n",
            "[11.383804612626708, 9.961892208977376]\n",
            "[12.455291078428417, 10.938104972936104]\n",
            "[8.967367733649871, 9.911458723496514]\n",
            "[9.04392077313066, 11.470201386059712]\n",
            "[8.356480790329723, 10.146510135049303]\n",
            "[10.673751510007756, 8.811524586545538]\n",
            "[10.66558886666695, 8.730549249038237]\n",
            "[9.939087883928003, 9.260396501632544]\n",
            "[8.490286929243638, 10.28586884324143]\n",
            "[10.412803218567804, 11.377271008517578]\n",
            "[9.085611973136475, 9.539317957305864]\n",
            "[10.429182501584043, 8.857994402716598]\n",
            "[11.067664229997343, 10.294514760726608]\n",
            "[10.373651527320927, 10.98053996252027]\n",
            "[9.87300421638513, 8.01102190105015]\n",
            "[10.253530723434451, 9.277938669511801]\n",
            "[10.145412807546284, 10.885738349491941]\n",
            "[10.537912251504125, 10.48390401638414]\n",
            "[10.377805698886888, 9.540361758003483]\n",
            "[10.732957998160119, 9.62264507215287]\n",
            "[10.880958695789202, 9.58653615982757]\n",
            "[10.768133146937574, 8.275693821760562]\n",
            "[10.203928060348638, 9.844464299719306]\n",
            "[8.895909133826619, 7.9266414484210905]\n",
            "[8.973092876280777, 6.5505070365682965]\n",
            "[8.670704867427084, 10.098947355379867]\n",
            "[9.924396973011502, 10.323629013079188]\n",
            "[9.84656375935971, 9.938280874738547]\n",
            "[10.553798095528448, 10.0113351845237]\n",
            "[10.40583229323691, 9.403635236606553]\n",
            "[9.368594215294623, 10.268940444969523]\n",
            "[8.348098672673775, 9.229018640846256]\n",
            "[9.944423388976505, 10.101136778766277]\n",
            "[9.91290592534, 8.113571854675454]\n",
            "[9.809218232572443, 10.967052937197142]\n",
            "[10.02739431874876, 9.911206700108501]\n",
            "[10.204428192437042, 8.270983383752679]\n",
            "[9.020481224652931, 8.921887441182289]\n",
            "[8.404533412947458, 9.189409889991229]\n",
            "[10.876491758134888, 9.624977045943604]\n",
            "[9.678524104737852, 8.72060662668157]\n",
            "[9.643548797527076, 10.121016116296442]\n",
            "[9.824934992722783, 9.762767323659611]\n",
            "[10.473256229632037, 10.6109794137053]\n",
            "[10.673239180090812, 11.068713911209802]\n",
            "[10.200161652761144, 8.655497274806228]\n",
            "[9.638788253111137, 9.50607727319533]\n",
            "[9.58804085366732, 10.50595071474379]\n",
            "[10.635269865265403, 9.68883630960044]\n",
            "[10.132812706762948, 10.858873420718687]\n",
            "[8.45590490741269, 8.770490156167256]\n",
            "[11.29069293727354, 12.332235201647595]\n",
            "[10.66252499180666, 10.369149808283519]\n",
            "[10.567388828498695, 9.625094526361226]\n",
            "[9.739246954882482, 11.634686916313669]\n",
            "[10.632545271714942, 10.485524863333591]\n",
            "[11.407850743533027, 9.75559548757007]\n",
            "CPU times: user 11.2 ms, sys: 1.06 ms, total: 12.3 ms\n",
            "Wall time: 14.3 ms\n"
          ]
        }
      ],
      "source": [
        "# Cette fonction sera appliquée et nous lirons les données et afficherons les informations de temps et de mémoire avec %%time\n",
        "%%time\n",
        "import csv\n",
        "with open('data.csv', 'r', newline='') as file:\n",
        "    rows = file.readlines()\n",
        "    for row in rows:\n",
        "        print(transform_csv_data(row))"
      ]
    },
    {
      "cell_type": "markdown",
      "metadata": {
        "id": "hpk-k6PkD5c0"
      },
      "source": [
        "Nous remarquons que nous avons consommé peu de mémoire"
      ]
    },
    {
      "cell_type": "code",
      "execution_count": null,
      "metadata": {
        "id": "t5-YSwvyuuvs"
      },
      "outputs": [],
      "source": [
        "# on va stocker les données dans un objet numpy array\n",
        "data=[]\n",
        "with open('data.csv', 'r', newline='') as file:\n",
        "    rows = file.readlines()\n",
        "    for i, row in enumerate(rows):\n",
        "        data.append(transform_csv_data(row))"
      ]
    },
    {
      "cell_type": "code",
      "execution_count": null,
      "metadata": {
        "id": "w7VdTDIg3ppk"
      },
      "outputs": [],
      "source": [
        "data = np.array(data) # les données sont stockées dans \"data\""
      ]
    },
    {
      "cell_type": "markdown",
      "metadata": {
        "id": "7pA9apJbqrFF"
      },
      "source": [
        "## fonctions du séquentiel k-means:"
      ]
    },
    {
      "cell_type": "markdown",
      "metadata": {
        "id": "Jlmw-oLYah0C"
      },
      "source": [
        "Maintenant on va implémenter l'algorithme k-means séquentiel en Python"
      ]
    },
    {
      "cell_type": "code",
      "execution_count": null,
      "metadata": {
        "id": "DsWFahaKqqS1"
      },
      "outputs": [],
      "source": [
        "# Cette fonction permet de trouver le centre le plus proche de chaque point x_i\n",
        "def centre_plus_proche_de_xi(centres,x):\n",
        "    u = np.argmin([np.linalg.norm(x- i) for i in centres])\n",
        "    return u"
      ]
    },
    {
      "cell_type": "code",
      "execution_count": null,
      "metadata": {
        "id": "Mn8gmHLiqqV9"
      },
      "outputs": [],
      "source": [
        "# Fonction qui permet de faire la mise à jour de centre µ et l’effectif  :\n",
        "def mise_a_jours(centre,effectif,x):\n",
        "    centre += (1/(effectif+1))*(x- centre)\n",
        "    effectif += 1\n",
        "    return centre, effectif"
      ]
    },
    {
      "cell_type": "code",
      "execution_count": null,
      "metadata": {
        "id": "hHj0y6ZIqqqJ"
      },
      "outputs": [],
      "source": [
        "# Implémentation de l'algorithme k-means séquentiel\n",
        "def sequentiel_kmeans(k,data):\n",
        "    centroids=[]\n",
        "\n",
        "    #initialisation des centres : \n",
        "    centre_idx = np.random.randint(low = 0, high = len(data), size = k, dtype = 'int16')\n",
        "    for i in range(len(centre_idx)):\n",
        "        centroids.append(data[centre_idx[i]])\n",
        "    \n",
        "    #initialisation du nombre d'effectifs pour chanque classe : \n",
        "    effectif_k= np.repeat(1, k)\n",
        "    #classes : \n",
        "    labels = np.repeat(np.nan, len(data)).astype('int8')\n",
        "    labels[centre_idx] = np.array(range(k), dtype='int8')\n",
        "\n",
        "    data = [x for i, x in enumerate(data) if i not in centre_idx ]\n",
        "    # classification de la donnée : \n",
        "    for i, x in enumerate(data):\n",
        "        # nearest center : \n",
        "        u = centre_plus_proche_de_xi(centroids,x)\n",
        "        labels[i]= u \n",
        "\n",
        "        # Mise à jour des paramètres :\n",
        "        centroids[u], effectif_k[u]= mise_a_jours(centroids[u],effectif_k[u],x)\n",
        "\n",
        "    return labels\n",
        "    "
      ]
    },
    {
      "cell_type": "markdown",
      "metadata": {
        "id": "JiLTIn_u2q0-"
      },
      "source": [
        "## Application du séquentiel k-means : "
      ]
    },
    {
      "cell_type": "code",
      "execution_count": null,
      "metadata": {
        "id": "fRdlUuDaujDo"
      },
      "outputs": [],
      "source": [
        "predicted_lables = sequentiel_kmeans(k= 2, data= data )"
      ]
    },
    {
      "cell_type": "code",
      "execution_count": null,
      "metadata": {
        "colab": {
          "base_uri": "https://localhost:8080/"
        },
        "id": "iYRroxSE2sSZ",
        "outputId": "75068aea-2555-4887-9860-599f8567f93f"
      },
      "outputs": [
        {
          "data": {
            "text/plain": [
              "array([0, 0, 0, 0, 0, 0, 0, 0, 0, 0, 0, 0, 0, 0, 0, 0, 0, 0, 0, 0, 0, 0,\n",
              "       0, 0, 0, 0, 0, 0, 0, 0, 0, 0, 0, 0, 0, 0, 0, 0, 0, 0, 0, 0, 0, 0,\n",
              "       0, 0, 0, 0, 0, 0, 0, 0, 0, 0, 0, 0, 0, 0, 0, 0, 0, 0, 0, 0, 0, 0,\n",
              "       0, 0, 0, 0, 0, 0, 0, 0, 0, 0, 0, 0, 0, 0, 0, 0, 0, 0, 0, 0, 0, 0,\n",
              "       0, 0, 0, 0, 0, 0, 0, 0, 0, 0, 0, 0, 1, 1, 1, 1, 1, 1, 1, 1, 1, 1,\n",
              "       1, 1, 1, 1, 1, 1, 1, 1, 1, 1, 1, 1, 1, 1, 1, 1, 1, 1, 1, 1, 1, 1,\n",
              "       1, 1, 1, 1, 1, 1, 1, 1, 1, 1, 1, 1, 1, 1, 1, 1, 1, 1, 1, 1, 1, 1,\n",
              "       1, 1, 1, 1, 1, 1, 1, 1, 1, 1, 1, 1, 1, 1, 1, 1, 1, 1, 1, 1, 1, 1,\n",
              "       1, 1, 1, 1, 1, 1, 1, 1, 1, 1, 1, 1, 1, 1, 1, 1, 1, 1, 1, 1, 1, 1,\n",
              "       0, 0], dtype=int8)"
            ]
          },
          "execution_count": 18,
          "metadata": {},
          "output_type": "execute_result"
        }
      ],
      "source": [
        "predicted_lables"
      ]
    },
    {
      "cell_type": "code",
      "execution_count": null,
      "metadata": {
        "id": "0egnfZyvcXqw"
      },
      "outputs": [],
      "source": [
        "# Générer de vrais labels :\n",
        "true_labels =np.repeat([0, 1], 100)"
      ]
    },
    {
      "cell_type": "code",
      "execution_count": null,
      "metadata": {
        "colab": {
          "base_uri": "https://localhost:8080/"
        },
        "id": "xX7vY2R12iCo",
        "outputId": "5554c609-a5a6-46c4-9be0-dc2e21cc3b9a"
      },
      "outputs": [
        {
          "data": {
            "text/plain": [
              "0.99"
            ]
          },
          "execution_count": 20,
          "metadata": {},
          "output_type": "execute_result"
        }
      ],
      "source": [
        "accuracy_score(predicted_lables,true_labels) # Calculer la précision en comparant les labels réelles avec les labels prédites"
      ]
    },
    {
      "cell_type": "code",
      "execution_count": null,
      "metadata": {
        "id": "zY8pvwQnF1Iq"
      },
      "outputs": [],
      "source": [
        "from sklearn.metrics.cluster import normalized_mutual_info_score as nmi\n",
        "\n",
        "#fonction de visualisation des données avec les labels de classification\n",
        "def eval_clustering_2D(x, labels, pred_labels):\n",
        "    fig, (ax1, ax2) = plt.subplots(1, 2)\n",
        "    fig.suptitle(\"clustering results , NMI : \"+ str(nmi(labels,pred_labels))) # pour calculer la valeur de NMI\n",
        "    ax1.scatter(x[:,0], x[:,1],\n",
        "                c=labels, edgecolor='none', alpha=1,)\n",
        "    ax2.scatter(x[:,0], x[:,1],\n",
        "                c=pred_labels, edgecolor='none', alpha=1,)"
      ]
    },
    {
      "cell_type": "code",
      "execution_count": null,
      "metadata": {
        "colab": {
          "base_uri": "https://localhost:8080/",
          "height": 294
        },
        "id": "VLsLMgw2F3k1",
        "outputId": "8a1d5228-78b1-4179-dccf-f76645c4b764"
      },
      "outputs": [
        {
          "data": {
            "image/png": "[encoded data removed]",
            "text/plain": [
              "<Figure size 432x288 with 2 Axes>"
            ]
          },
          "metadata": {
            "needs_background": "light"
          },
          "output_type": "display_data"
        }
      ],
      "source": [
        "eval_clustering_2D(data , true_labels ,predicted_lables)"
      ]
    },
    {
      "cell_type": "markdown",
      "metadata": {
        "id": "kSvicULxo1SB"
      },
      "source": [
        "# **Partie B : Implémentation d’une version streaming de k-means(Python)**"
      ]
    },
    {
      "cell_type": "markdown",
      "metadata": {
        "id": "Zsiwd-JkVOIp"
      },
      "source": [
        "L’implémentation séquentielle de k-means souffre d’un inconvénient : si la distribution\n",
        "des données change au cours du temps (concept drift), les centres se déplacent et\n",
        "l’affectation aux clusters n’est alors plus toujours cohérente. Reboucler sur les données\n",
        "permet d’atténuer cet effet. Dans cette partie, une autre solution est proposée. Elle\n",
        "permet de s’affranchir de reboucler sur toutes les données en conservant en mémoire\n",
        "un sous-ensemble des données : les dernières arrivées."
      ]
    },
    {
      "cell_type": "markdown",
      "metadata": {
        "id": "EMcv9xzTVPW6"
      },
      "source": [
        "**Hyper-paramètres** : Soit T le nombre maximum de batches à garder en mémoire, et un\n",
        "paramètre r qui contrôle le poids à accorder à l’historique (plus il est grand, moins les\n",
        "anciens batches pèseront dans la contribution aux centres)."
      ]
    },
    {
      "cell_type": "markdown",
      "metadata": {
        "id": "cU7KoxcFVT_O"
      },
      "source": [
        "**Entrées** : X l’ensemble des batches précédents partitionnés par P (aléatoire si il n’y a pas\n",
        "de batch précédent), et B⁰ le nouveau batch."
      ]
    },
    {
      "cell_type": "markdown",
      "metadata": {
        "id": "qtWxZvgrVWn5"
      },
      "source": [
        "**Algorithme :**\n",
        "\n",
        "\n",
        "*   Si la taille de X est T : enlever le plus vieux batch de X\n",
        "*   Ajouter B⁰ à X\n",
        "*   Initialiser les centroïdes C avec la partition P\n",
        "*    Obtenir les centroïdes C et la partition P avec l’algorithme k-means pondéré :\n",
        "    - les points des batches sont pondérés par r^t où t est le numéro du batch\n",
        "ordonné par ordre décroissant : 0 est le batch le plus récent, 1 est le batch\n",
        "précédent, etc.\n",
        "    - utiliser l’argument sample_weight de la méthode fit de\n",
        "l’implémentation k-means de scikit-learn :\n",
        "https://scikit-learn.org/stable/modules/generated/sklearn.cluster.KMeans.html#sklearn.cluster.KMeans.fit \n",
        "\n",
        "**Sortie:** l’ensemble des centroïdes C et la partition associée P.\n"
      ]
    },
    {
      "cell_type": "code",
      "execution_count": null,
      "metadata": {
        "id": "mK1aS4rupoRs"
      },
      "outputs": [],
      "source": [
        "# Hyper-paramètres :\n",
        "T = 5\n",
        "r = 5"
      ]
    },
    {
      "cell_type": "code",
      "execution_count": null,
      "metadata": {
        "id": "SzUIpwaUo64X"
      },
      "outputs": [],
      "source": [
        "# calculer le poids pour les points de chaque batch\n",
        "def weight(X):\n",
        "    w = []\n",
        "    ordre = 0\n",
        "    for i in reversed(X):\n",
        "        for j in i:\n",
        "            w.append(r/(ordre+1))\n",
        "        ordre += 1\n",
        "    return list(reversed(w))\n",
        "\n",
        "# Implémentation de streaming de k-means\n",
        "def streaming_k_means(X,B):\n",
        "    X= list(X)\n",
        "    print(X)\n",
        "    if len(X) == T:\n",
        "        del X[0] # Remove the oldest batch from X\n",
        "    X.append(B)\n",
        "    kmeans = KMeans(n_clusters=2, random_state=0).fit(np.concatenate(X), y=None, sample_weight=weight(X))\n",
        "    C = kmeans.cluster_centers_\n",
        "    P = kmeans.labels_\n",
        "    return C,P"
      ]
    },
    {
      "cell_type": "code",
      "execution_count": null,
      "metadata": {
        "colab": {
          "base_uri": "https://localhost:8080/"
        },
        "id": "PtbGfvahf6_S",
        "outputId": "64084d00-4c70-4a32-9230-5e6373ec8a7b"
      },
      "outputs": [
        {
          "name": "stdout",
          "output_type": "stream",
          "text": [
            "[]\n",
            "Les centres sont : [[ 0.5  0.5]\n",
            " [10.  10. ]]\n",
            "La partition est : [0 0 1]\n",
            "[]\n",
            "Les centres sont : [[15. 17.]\n",
            " [ 2.  7.]]\n",
            "La partition est : [0 1]\n",
            "[]\n",
            "Les centres sont : [[ 3.  4.]\n",
            " [10.  4.]]\n",
            "La partition est : [0 1]\n",
            "[]\n",
            "Les centres sont : [[22.  5.]\n",
            " [12.  9.]]\n",
            "La partition est : [0 1]\n",
            "[]\n",
            "Les centres sont : [[16.  1.]\n",
            " [ 1.  6.]]\n",
            "La partition est : [0 1]\n"
          ]
        }
      ],
      "source": [
        "# Tester l'algorithme\n",
        "# Entrées :\n",
        "X = []\n",
        "Batches = [\n",
        "           ((0,0), (1,1), (10,10)),\n",
        "           ((15,17), (2,7)),\n",
        "           ((3,4), (10,4)),\n",
        "           ((22,5), (12,9)),\n",
        "           ((16,1), (1,6))\n",
        "           ]\n",
        "P = [(random.randint(0,len(Batches[0])-1)) for k in range(len(Batches[0]))]\n",
        "\n",
        "\n",
        "for idx, B in enumerate(Batches):\n",
        "    C,P = streaming_k_means(X, B)\n",
        "    print(f'Les centres sont : {C}')\n",
        "    print(f'La partition est : {P}')"
      ]
    },
    {
      "cell_type": "markdown",
      "metadata": {
        "id": "mL7cwTgkIVFG"
      },
      "source": [
        "# **Partie C : Implémentation de k-means `distribué` \"Apache Beam\"**"
      ]
    },
    {
      "cell_type": "markdown",
      "metadata": {
        "id": "IBtVOgLJsRxA"
      },
      "source": [
        "Pour cette partie, on pourra dans un premier temps se placer en dimension 1 (une\n",
        "seule coordonnée par point)"
      ]
    },
    {
      "cell_type": "markdown",
      "metadata": {
        "id": "tpRCYLOvJBmt"
      },
      "source": [
        "## Question 1 : Créer une PCollection qui contient l’ensemble des points."
      ]
    },
    {
      "cell_type": "code",
      "execution_count": null,
      "metadata": {
        "colab": {
          "base_uri": "https://localhost:8080/",
          "height": 1000
        },
        "id": "ex8QWkhPzr1S",
        "outputId": "5bb3d076-6cd4-454f-abe7-69ea41dcde0d"
      },
      "outputs": [
        {
          "data": {
            "application/javascript": "\n        if (typeof window.interactive_beam_jquery == 'undefined') {\n          var jqueryScript = document.createElement('script');\n          jqueryScript.src = 'https://code.jquery.com/jquery-3.4.1.slim.min.js';\n          jqueryScript.type = 'text/javascript';\n          jqueryScript.onload = function() {\n            var datatableScript = document.createElement('script');\n            datatableScript.src = 'https://cdn.datatables.net/1.10.20/js/jquery.dataTables.min.js';\n            datatableScript.type = 'text/javascript';\n            datatableScript.onload = function() {\n              window.interactive_beam_jquery = jQuery.noConflict(true);\n              window.interactive_beam_jquery(document).ready(function($){\n                \n              });\n            }\n            document.head.appendChild(datatableScript);\n          };\n          document.head.appendChild(jqueryScript);\n        } else {\n          window.interactive_beam_jquery(document).ready(function($){\n            \n          });\n        }"
          },
          "metadata": {},
          "output_type": "display_data"
        },
        {
          "name": "stderr",
          "output_type": "stream",
          "text": [
            "WARNING:root:Make sure that locally built Python SDK docker image has Python 3.7 interpreter.\n"
          ]
        },
        {
          "name": "stdout",
          "output_type": "stream",
          "text": [
            "8.244086608514928\n",
            "2.6080872933433485\n",
            "3.178315766057065\n",
            "6.168997264154079\n",
            "4.270835830552841\n",
            "2.8367273612624535\n",
            "9.825761997139749\n",
            "7.942453095168571\n",
            "6.242385116031687\n",
            "3.784491256653264\n",
            "4.540885920268374\n",
            "6.652174048854674\n",
            "1.7505814818685728\n",
            "8.095437948500521\n",
            "0.4490132094451449\n",
            "8.10957751230843\n",
            "2.639020860678425\n",
            "5.89985758169545\n",
            "0.16657246056147712\n",
            "9.623279162527524\n",
            "9.0151029748403\n",
            "6.410074564662231\n",
            "8.861255193035808\n",
            "6.056712003669389\n",
            "9.457779543977434\n",
            "2.239510242337992\n",
            "0.18421664589207576\n",
            "9.686355086658207\n",
            "8.821178510406368\n",
            "1.5955525847284302\n",
            "5.7878201794497395\n",
            "3.2931711084292203\n",
            "9.474729306662576\n",
            "2.848421149321311\n",
            "2.4065704524579323\n",
            "8.878629948040047\n",
            "1.363039374364211\n",
            "3.2390320770008074\n",
            "6.443909965424916\n",
            "3.1726856965955985\n",
            "5.141738197988916\n",
            "3.539953649748435\n",
            "9.082538017297233\n",
            "6.949888412574206\n",
            "8.517005833533084\n",
            "6.212568273958846\n",
            "7.564600251165228\n",
            "6.951471576822357\n",
            "6.716368041594527\n",
            "3.425263745246674\n",
            "2.5381839146165976\n",
            "5.408480345147665\n",
            "3.516732287380732\n",
            "6.164386132496393\n",
            "4.949536672679821\n",
            "6.511801314199754\n",
            "7.206907262479203\n",
            "0.44430574821945346\n",
            "6.637041782965337\n",
            "0.45030221937748416\n",
            "1.7461490064766683\n",
            "3.34595554987993\n",
            "9.293424020117824\n",
            "6.993926767809242\n",
            "9.54107381035644\n",
            "0.14027982458753696\n",
            "6.8793378960581\n",
            "8.451926469621322\n",
            "0.2917160802235408\n",
            "3.7282117828301056\n",
            "0.35496674116596183\n",
            "4.615829125326236\n",
            "9.661017077958743\n",
            "0.9970112428957778\n",
            "0.37843105853382353\n",
            "7.033367289727153\n",
            "0.6063870340208055\n",
            "9.43027833713799\n",
            "5.113415346910395\n",
            "0.40794631025703576\n",
            "3.3972314257513547\n",
            "4.569455693670128\n",
            "7.905977984115344\n",
            "9.882089401763812\n",
            "8.832996065176026\n",
            "6.460657093806769\n",
            "8.930812804449323\n",
            "8.901263293682417\n",
            "3.0498521213997476\n",
            "3.2279482326320696\n",
            "5.785910016596113\n",
            "8.416972128827048\n",
            "6.992787184639977\n",
            "7.710293911615431\n",
            "2.0654249009243886\n",
            "0.794750764851978\n",
            "5.318904591775594\n",
            "7.745830590898293\n",
            "6.975087780744621\n",
            "3.9545779838562223\n",
            "7.046262431134119\n",
            "4.9820113777180435\n",
            "7.008335875009568\n",
            "4.172243379970863\n",
            "1.9336315180665997\n",
            "2.0345999404889135\n",
            "7.257181592496231\n",
            "1.2352453608056235\n",
            "1.5722803472270885\n",
            "3.7254252688613345\n",
            "9.956186940732966\n",
            "8.50886310400971\n",
            "6.745652033918357\n",
            "1.5828048035334508\n",
            "8.65417436568804\n",
            "8.103975710939801\n",
            "2.034538635751754\n",
            "7.031471595273525\n",
            "5.2211501783128345\n",
            "3.471154223320605\n",
            "7.223456790671817\n",
            "2.502230585968902\n",
            "0.46485117940986975\n",
            "9.730432557908511\n",
            "0.656179053200826\n",
            "9.592844553458367\n",
            "9.181382721057155\n",
            "9.001151682664757\n",
            "8.345172234657936\n",
            "2.9971006136056055\n",
            "2.5482388326531504\n",
            "6.83196612138392\n",
            "3.984388944423498\n",
            "0.396660336851441\n",
            "2.671089142329759\n",
            "2.0903624644758114\n",
            "6.45954027991438\n",
            "3.3639295268047964\n",
            "3.1246632737769584\n",
            "4.216917515708718\n",
            "7.992797545434406\n",
            "5.480991478201439\n",
            "8.120300093023431\n",
            "0.04590634610839306\n",
            "1.9518796520653703\n",
            "7.771182036626298\n",
            "8.021765394421216\n",
            "6.40011637876507\n",
            "3.0973972365432956\n",
            "2.062783703665787\n",
            "2.7168825009561415\n",
            "1.2532414709691264\n",
            "2.729426230052959\n",
            "2.6535787031974776\n",
            "5.208653616491984\n",
            "8.499124120652041\n",
            "4.049021004365837\n",
            "3.107039154820167\n",
            "3.654913743941023\n",
            "9.402731236974432\n",
            "6.588122936448459\n",
            "0.5385752066845906\n",
            "6.013630483033715\n",
            "0.09902761446734187\n",
            "4.744696524790929\n",
            "8.313415347766576\n",
            "0.7189095479462249\n",
            "2.943461148766251\n",
            "0.9379774311327782\n",
            "5.317750289476973\n",
            "8.540662137319334\n",
            "3.0378540161446366\n",
            "7.727522628791607\n",
            "4.696995838028571\n",
            "1.53129598080748\n",
            "9.71470460551955\n",
            "8.322740161027646\n",
            "0.0030333254636971674\n",
            "2.460923097887018\n",
            "8.782210651657367\n",
            "4.370787463540376\n",
            "5.934196874127387\n",
            "1.7882267688542786\n",
            "2.8679474701195176\n",
            "9.141946355017637\n",
            "1.9736970397115716\n",
            "9.400489119183307\n",
            "4.457870443494153\n",
            "8.910783673595828\n",
            "1.2953301731138112\n",
            "3.267094591702069\n",
            "6.533069118370182\n",
            "8.449998956142723\n",
            "2.508159333140305\n",
            "8.942104796210506\n",
            "0.3007768123034582\n",
            "6.780946749629397\n",
            "8.91321261716798\n",
            "4.684447137755432\n",
            "2.095879578911506\n"
          ]
        }
      ],
      "source": [
        "import apache_beam.runners.interactive.interactive_beam as ib\n",
        "# Nous allons créer une liste de dimension 1 avec des valeurs comprises entre 0 et 10\n",
        "with beam.Pipeline() as pipeline:\n",
        "  collection = (\n",
        "      pipeline\n",
        "      | 'Créer une liste avec tous les éléments en 1 dimension' >> beam.Create([(random.uniform(0,10))for x in range(200)])\n",
        "  )\n",
        "  collection | beam.Map(print)"
      ]
    },
    {
      "cell_type": "markdown",
      "metadata": {
        "id": "_hUgt3inJN0v"
      },
      "source": [
        "## Question 2 : Pour l’initialisation, transformer la PCollection précédente pour que chaque élément de la nouvelle PCollection soit un tuple où :\n",
        "\n",
        "\n",
        "*   a. le premier élément est le numéro de cluster choisi aléatoirement ;\n",
        "*   b. le second élément du tuple soit les coordonnées du point."
      ]
    },
    {
      "cell_type": "code",
      "execution_count": null,
      "metadata": {
        "colab": {
          "base_uri": "https://localhost:8080/"
        },
        "id": "_yMDksMXJPl9",
        "outputId": "4e630ba9-7bfb-4548-fff3-349d7ea657d3"
      },
      "outputs": [
        {
          "name": "stderr",
          "output_type": "stream",
          "text": [
            "WARNING:root:Make sure that locally built Python SDK docker image has Python 3.7 interpreter.\n"
          ]
        },
        {
          "name": "stdout",
          "output_type": "stream",
          "text": [
            "(10, 6.37695124141199)\n",
            "(8, 7.996981827606152)\n",
            "(0, 2.5321014470932734)\n",
            "(5, 7.087542859391528)\n",
            "(10, 2.955032407769581)\n",
            "(5, 1.3493254551234657)\n",
            "(5, 4.0128345420266465)\n",
            "(5, 6.61387225874007)\n",
            "(9, 2.994948228983574)\n",
            "(3, 8.239146629896556)\n",
            "(7, 1.2602955432118157)\n",
            "(8, 6.009742751573621)\n",
            "(2, 3.7658150064518447)\n",
            "(3, 5.119367601626445)\n",
            "(6, 0.4203780336456575)\n",
            "(3, 2.9791840890133736)\n",
            "(8, 0.8993339947746348)\n",
            "(9, 6.071538454682583)\n",
            "(5, 2.805638090009616)\n",
            "(2, 1.741536485057198)\n",
            "(8, 3.7846262128243335)\n",
            "(3, 7.608676838729797)\n",
            "(0, 3.5867222355927986)\n",
            "(3, 4.947243303905861)\n",
            "(6, 5.594728024598855)\n",
            "(9, 6.157824645094765)\n",
            "(10, 6.072592555194908)\n",
            "(5, 9.649119949376532)\n",
            "(0, 4.572712622089446)\n",
            "(10, 5.428877527012327)\n",
            "(3, 1.8152997319493736)\n",
            "(2, 9.677311064920541)\n",
            "(1, 6.742449150095227)\n",
            "(7, 4.232691002179269)\n",
            "(9, 7.176595658632669)\n",
            "(2, 4.158872212832099)\n",
            "(5, 6.543706494135203)\n",
            "(7, 6.5476820907511275)\n",
            "(0, 2.0674745226508584)\n",
            "(7, 3.167833708487786)\n",
            "(2, 0.436290109577947)\n",
            "(5, 6.422079440473931)\n",
            "(2, 5.915291290936821)\n",
            "(1, 3.5111388090910687)\n",
            "(9, 9.224137676013486)\n",
            "(3, 2.103715693608118)\n",
            "(3, 6.604426161345054)\n",
            "(7, 1.0352965103485645)\n",
            "(7, 1.320841536325441)\n",
            "(3, 5.363125965342526)\n",
            "(10, 7.564686069388722)\n",
            "(3, 1.4355247522635428)\n",
            "(3, 5.014866989461564)\n",
            "(0, 9.748915745677603)\n",
            "(6, 0.8515545967523641)\n",
            "(10, 2.5268111335009493)\n",
            "(1, 5.248122343313773)\n",
            "(6, 4.95192319723203)\n",
            "(8, 0.952584746645021)\n",
            "(4, 0.3769721231791412)\n",
            "(1, 5.184664792500579)\n",
            "(1, 8.5124704961945)\n",
            "(10, 7.481005772270399)\n",
            "(3, 3.7271806440356214)\n",
            "(0, 3.7513242870201866)\n",
            "(6, 9.90582248239808)\n",
            "(4, 1.9260494732620737)\n",
            "(6, 9.074544822516014)\n",
            "(0, 7.893330502686309)\n",
            "(0, 7.423752962236076)\n",
            "(9, 9.058391674589952)\n",
            "(0, 3.994711999325551)\n",
            "(3, 8.290516476626413)\n",
            "(0, 1.3466681189904384)\n",
            "(6, 5.800509319634688)\n",
            "(4, 4.463359615612598)\n",
            "(7, 8.09670047819067)\n",
            "(1, 3.382957235882098)\n",
            "(1, 1.9403869824325115)\n",
            "(3, 1.389743764083624)\n",
            "(6, 6.088972302521549)\n",
            "(7, 9.386045338838528)\n",
            "(0, 5.865493241781205)\n",
            "(10, 2.679030193102734)\n",
            "(3, 4.470843368871876)\n",
            "(1, 1.0271001376918065)\n",
            "(10, 2.7257750244998613)\n",
            "(6, 7.411982392880047)\n",
            "(8, 8.670618084720752)\n",
            "(3, 7.505082158694397)\n",
            "(2, 9.30743173847826)\n",
            "(0, 5.385231931429755)\n",
            "(8, 8.506219846701542)\n",
            "(4, 1.9204612479928285)\n",
            "(9, 6.5900979458824445)\n",
            "(7, 7.148384953061101)\n",
            "(5, 4.487342558783293)\n",
            "(6, 9.693866622192411)\n",
            "(10, 2.0945718745647746)\n",
            "(0, 9.616283893507985)\n",
            "(4, 5.813075382230344)\n",
            "(5, 2.688460569322407)\n",
            "(0, 4.689130677189662)\n",
            "(4, 6.810767872900643)\n",
            "(2, 7.433282802598155)\n",
            "(2, 4.550790864484496)\n",
            "(1, 2.389377873915044)\n",
            "(0, 7.424478706047834)\n",
            "(0, 0.7073754528879062)\n",
            "(4, 6.24548025438804)\n",
            "(4, 9.127230273223084)\n",
            "(3, 0.7127571671441901)\n",
            "(6, 3.5530896350090524)\n",
            "(4, 8.034351852627658)\n",
            "(9, 3.1251017654773072)\n",
            "(7, 4.5364082911631884)\n",
            "(6, 9.882588333692336)\n",
            "(9, 0.5484500002057002)\n",
            "(2, 2.250559248523593)\n",
            "(10, 4.234530382629197)\n",
            "(0, 6.705499039692745)\n",
            "(3, 0.2697417787326384)\n",
            "(1, 9.977026509409702)\n",
            "(2, 4.545035393615988)\n",
            "(9, 4.083628257672078)\n",
            "(1, 5.009925917093526)\n",
            "(7, 5.170404097523701)\n",
            "(1, 3.54586150563559)\n",
            "(8, 0.9122309113778204)\n",
            "(1, 2.8786374586867822)\n",
            "(1, 8.167139502641206)\n",
            "(8, 5.869937486133955)\n",
            "(1, 7.836503595537736)\n",
            "(8, 8.17761668203748)\n",
            "(5, 8.54293912528602)\n",
            "(3, 8.095520722655207)\n",
            "(10, 6.718841617451755)\n",
            "(1, 8.927602249750068)\n",
            "(7, 4.010642448634173)\n",
            "(0, 7.980035645028252)\n",
            "(4, 8.49301893167717)\n",
            "(10, 1.1367351943810666)\n",
            "(9, 3.9182574271871715)\n",
            "(5, 2.279266950818025)\n",
            "(6, 7.543406139691343)\n",
            "(6, 5.194265011947781)\n",
            "(0, 5.629003210310572)\n",
            "(0, 7.279092450431683)\n",
            "(1, 4.752439693507356)\n",
            "(8, 3.031608456808411)\n",
            "(9, 6.607330827370591)\n",
            "(7, 2.677534595938018)\n",
            "(9, 5.9636624971030745)\n",
            "(4, 1.7305667481611275)\n",
            "(4, 8.150765934420502)\n",
            "(9, 3.3058989083837584)\n",
            "(1, 2.918858054271735)\n",
            "(7, 3.7922480562258976)\n",
            "(4, 2.5174423775618706)\n",
            "(4, 3.290103579091439)\n",
            "(9, 0.32336598371700664)\n",
            "(7, 0.5879802552127378)\n",
            "(7, 8.843549623403247)\n",
            "(3, 7.009023348252054)\n",
            "(9, 4.918864692115951)\n",
            "(8, 1.3701672474237603)\n",
            "(4, 9.983412371631994)\n",
            "(1, 3.0785006479892396)\n",
            "(5, 3.8675120549186746)\n",
            "(4, 9.907434768145821)\n",
            "(7, 0.563261811065684)\n",
            "(2, 9.635778554978648)\n",
            "(9, 0.5386498545296736)\n",
            "(5, 9.479316264894669)\n",
            "(4, 2.3486099639714473)\n",
            "(9, 6.677453601710842)\n",
            "(4, 8.696004585598637)\n",
            "(2, 1.9464225816472702)\n",
            "(7, 1.6084852100768132)\n",
            "(9, 7.8349101983650495)\n",
            "(2, 6.93059717816756)\n",
            "(4, 0.06175057690718466)\n",
            "(5, 1.9819168462417902)\n",
            "(3, 1.0308075659584104)\n",
            "(2, 4.510526730216392)\n",
            "(7, 5.96571258820405)\n",
            "(9, 9.860477042735182)\n",
            "(5, 1.6433693163090635)\n",
            "(9, 0.9953943374710883)\n",
            "(1, 8.708706990059241)\n",
            "(3, 3.939281930025773)\n",
            "(10, 9.030451885729773)\n",
            "(9, 5.809325754835114)\n",
            "(5, 9.657788622507606)\n",
            "(10, 9.598992452402975)\n",
            "(2, 8.767701432456262)\n",
            "(10, 2.357209998170368)\n",
            "(3, 9.825816196718263)\n",
            "(4, 8.285962841619064)\n",
            "(5, 3.322697128441675)\n"
          ]
        }
      ],
      "source": [
        "import apache_beam.runners.interactive.interactive_beam as ib\n",
        "\n",
        "with beam.Pipeline() as pipeline:\n",
        "  collection = (\n",
        "      pipeline\n",
        "      | 'Créer une liste avec tous les éléments en 1 dimension' >> beam.Create([(random.uniform(0,10)) for x in range(200)])\n",
        "      | 'Ajouter un cluster aléatoire' >> beam.Map(lambda x: (random.randint(0,10),x))\n",
        "  )\n",
        "  collection | beam.Map(print)"
      ]
    },
    {
      "cell_type": "markdown",
      "metadata": {
        "id": "llvjc2M-J9c4"
      },
      "source": [
        "## Question 3 : Implémenter l’étape de calcul des centres : Une PCollection nommée centroids sera créée pour ça. Chaque élément sera un tuple (numéro de cluster, coordonnées du centroïde)."
      ]
    },
    {
      "cell_type": "code",
      "execution_count": null,
      "metadata": {
        "id": "VQju_l6puafe"
      },
      "outputs": [],
      "source": [
        "def centers(element):\n",
        "    clust = element[0]\n",
        "    liste = element[1]\n",
        "    return (clust,sum(liste)/len(liste))"
      ]
    },
    {
      "cell_type": "code",
      "execution_count": null,
      "metadata": {
        "colab": {
          "base_uri": "https://localhost:8080/"
        },
        "id": "xgtHN28JJ_ii",
        "outputId": "468b9b42-f407-42ed-f9f0-a92339dd2bc5"
      },
      "outputs": [
        {
          "name": "stderr",
          "output_type": "stream",
          "text": [
            "WARNING:root:Make sure that locally built Python SDK docker image has Python 3.7 interpreter.\n"
          ]
        },
        {
          "name": "stdout",
          "output_type": "stream",
          "text": [
            "(4, 5.167897938892947)\n",
            "(3, 4.495803863096906)\n",
            "(5, 5.231568272606937)\n",
            "(9, 5.118130370835517)\n",
            "(7, 4.5370233384127285)\n",
            "(1, 5.376830759166946)\n",
            "(6, 5.636732040766578)\n",
            "(0, 6.067599395076768)\n",
            "(10, 3.7164366799055206)\n",
            "(8, 4.654400009031565)\n",
            "(2, 5.693413595847051)\n"
          ]
        }
      ],
      "source": [
        "import apache_beam.runners.interactive.interactive_beam as ib\n",
        "\n",
        "with beam.Pipeline() as pipeline:\n",
        "  centroids = (\n",
        "      pipeline\n",
        "      | 'Créer une liste avec tous les éléments en 1 dimension' >> beam.Create([random.uniform(0,10) for x in range(200)])\n",
        "      | 'Ajouter un cluster aléatoire' >> beam.Map(lambda x: (random.randint(0,10),x))\n",
        "      | 'ID de cluster de groupe' >> beam.GroupByKey()\n",
        "      | 'Calculer la moyenne du cluster ' >> beam.Map(centers)\n",
        "      \n",
        "  )\n",
        "  centroids | beam.Map(print) "
      ]
    },
    {
      "cell_type": "markdown",
      "metadata": {
        "id": "tl3CpFvdjHDf"
      },
      "source": [
        "## Question 4 : Implémenter l’étape de partitionnement \n",
        "\n",
        "* a. Créer une fonction assign_cluster qui prend deux entrées :\n",
        "    - i. un point (ses coordonnées)\n",
        "    - ii. un dictionnaire de centroïdes où la clé correspond au numéro de cluster et la valeur correspond aux coordonnées du centroïde.\n",
        "\n",
        "La fonction retourne un tuple avec :\n",
        "\n",
        "    - le numéro du cluster le plus proche du point ;\n",
        "    - les coordonnées du point.\n",
        "* b. Assigner à chaque point son numéro de cluster :\n",
        "    - i. Utiliser la méthode Map avec les centroïdes comme entrée complémentaire sous forme de dictionnaire : https://beam.apache.org/documentation/transforms/python/elementwise/map/#example-8-map-with-side-inputs-as-dictionaries\n",
        "    - ii. Quelle supposition fait-on pour passer les centroïdes sous cette forme ? Peut-on optimiser cette étape ? Si oui, modifier l’implémentation de l’étape de partitionnement pour pallier ça. "
      ]
    },
    {
      "cell_type": "markdown",
      "metadata": {
        "id": "7wo_3OGiIKl2"
      },
      "source": [
        "#### Creation de la fonction assign_cluster"
      ]
    },
    {
      "cell_type": "code",
      "execution_count": null,
      "metadata": {
        "id": "TnnP6LtWM1Z-"
      },
      "outputs": [],
      "source": [
        "def assign_clusterd(point, medoids):\n",
        "\n",
        "    test_point = np.array(point)\n",
        "    dist = []\n",
        "    for i in medoids:\n",
        "        # calc distance point is from every cluster\n",
        "        dist[i] = np.linalg.norm(test_point - medoids[i])\n",
        "\n",
        "    # determine which cluster was closest\n",
        "    #dist = [dist0,dist1,dist2,dist3,dist4,dist5,dist6]\n",
        "    cluster = np.where(dist == min(dist))[0]\n",
        "    #logging.info(\"*** Cluster = %s\", str(dist))\n",
        "\n",
        "    yield (\"cluster\", cluster)\n",
        "    return cluster , test_point"
      ]
    },
    {
      "cell_type": "code",
      "execution_count": null,
      "metadata": {
        "id": "t2gI_CB2MpL6"
      },
      "outputs": [],
      "source": [
        "class assign_cluster(beam.DoFn):\n",
        "\n",
        "    def process(self, element):\n",
        "\n",
        "        #test_point = array([0.397, 0.1, 0.426, 0.0, 0.434, 0.541])\n",
        "        test_point = np.array(element)\n",
        "\n",
        "        # medoid points between 0 and 1\n",
        "        medoids = np.array(\n",
        "                [[0.102, 0.2, 0.43, 0.0, 0.297, 0.124],\n",
        "                [0.248, 0.1, 0.346, 0.125, 0.173, 0.564],\n",
        "                [0.491, 0.6, 0.568, 0.375, 0.355, 0.589],\n",
        "                [0.529, 0.1, 0.526, 0.375, 0.446, 0.544],\n",
        "                [0.473, 0.2, 0.434, 0.0, 0.118, 0.311],\n",
        "                [0.611, 0.0, 0.672, 0.875, 0.418, 0.81],\n",
        "                [0.397, 0.1, 0.426, 0.0, 0.434, 0.541]])\n",
        "\n",
        "        # calc distance point is from every cluster\n",
        "        dist0 = np.linalg.norm(test_point - medoids[0])\n",
        "        dist1 = np.linalg.norm(test_point - medoids[1])\n",
        "        dist2 = np.linalg.norm(test_point - medoids[2])\n",
        "        dist3 = np.linalg.norm(test_point - medoids[3])\n",
        "        dist4 = np.linalg.norm(test_point - medoids[4])\n",
        "        dist5 = np.linalg.norm(test_point - medoids[5])\n",
        "        dist6 = np.linalg.norm(test_point - medoids[6])\n",
        "\n",
        "        # determine which cluster was closest\n",
        "        dist = [dist0,dist1,dist2,dist3,dist4,dist5,dist6]\n",
        "        cluster = np.where(dist == min(dist))[0]\n",
        "        #logging.info(\"*** Cluster = %s\", str(dist))\n",
        "\n",
        "        yield (\"cluster\", cluster)"
      ]
    },
    {
      "cell_type": "code",
      "execution_count": null,
      "metadata": {
        "id": "ix6KFffu2hyF"
      },
      "outputs": [],
      "source": [
        "coord_list = [0.397, 0.1, 0.426, 0.0, 0.434, 0.541]"
      ]
    },
    {
      "cell_type": "code",
      "execution_count": null,
      "metadata": {
        "colab": {
          "base_uri": "https://localhost:8080/"
        },
        "id": "2vdPaRCj2Khs",
        "outputId": "ef364166-581c-4eab-9593-51a0beece2d3"
      },
      "outputs": [
        {
          "name": "stderr",
          "output_type": "stream",
          "text": [
            "WARNING:root:Make sure that locally built Python SDK docker image has Python 3.7 interpreter.\n"
          ]
        }
      ],
      "source": [
        "with beam.Pipeline() as pipeline:\n",
        "  # la PCollection\n",
        "  data_set = ( pipeline |  beam.Create(coord_list) |  beam.Map( lambda x: ((np.random.randint(0, 2)), x) ) )\n",
        "  centroids = ( # Calculer les centroides\n",
        "      data_set  | beam.GroupByKey()\n",
        "            | beam.MapTuple(lambda cluster, points: (cluster, np.mean(points)))\n",
        "  )\n"
      ]
    },
    {
      "cell_type": "code",
      "execution_count": null,
      "metadata": {
        "colab": {
          "base_uri": "https://localhost:8080/"
        },
        "id": "Hp9Fva-z21yV",
        "outputId": "647ed503-0bae-4967-a9eb-ada88070900d"
      },
      "outputs": [
        {
          "name": "stderr",
          "output_type": "stream",
          "text": [
            "WARNING:root:Make sure that locally built Python SDK docker image has Python 3.7 interpreter.\n"
          ]
        },
        {
          "name": "stdout",
          "output_type": "stream",
          "text": [
            "('cluster', array([2]))\n",
            "('cluster', array([0]))\n",
            "('cluster', array([2]))\n",
            "('cluster', array([0]))\n",
            "('cluster', array([2]))\n",
            "('cluster', array([2]))\n"
          ]
        }
      ],
      "source": [
        "with beam.Pipeline() as pipeline:\n",
        "  coord_x = ( pipeline  |beam.Create(coord_list) )\n",
        "  clustering = ( #Affectation \n",
        "      coord_x\n",
        "      |  beam.ParDo(assign_cluster())\n",
        "    #   |  beam.Map( assign_clusterd, centroids = beam.pvalue.AsDict(centroids))\n",
        "      |  beam.Map(print)\n",
        "  )"
      ]
    },
    {
      "cell_type": "markdown",
      "metadata": {
        "id": "XxOZUnoMo7bo"
      },
      "source": [
        "# **Partie D : Implémentation du `séquentiel` k-means en utilisant \"apache beam\"**"
      ]
    },
    {
      "cell_type": "code",
      "execution_count": null,
      "metadata": {
        "id": "edbbupFnjJF2"
      },
      "outputs": [],
      "source": [
        "from apache_beam.transforms.userstate import BagStateSpec\n",
        "k = 2\n",
        "class KMeansSeq(beam.DoFn):\n",
        "    state1 = BagStateSpec(name='myCenters', coder=beam.coders.PickleCoder())\n",
        "    state2 = BagStateSpec(name='myN', coder=beam.coders.PickleCoder())\n",
        "    \n",
        "    def process(self, element, myCenters=beam.DoFn.StateParam(state1), myN=beam.DoFn.StateParam(state2)):\n",
        "        key, value = element\n",
        "        n = myN.read()\n",
        "        centers = myCenters.read()\n",
        "        i = 0\n",
        "        for x in n:\n",
        "            i+=1\n",
        "        if i<k:\n",
        "            myCenters.add(value)\n",
        "            myN.add(1)\n",
        "            yield i\n",
        "        else:  \n",
        "            dmin = float('inf')\n",
        "            nearest = 0 \n",
        "            for near, c in enumerate(centers):\n",
        "                d = np.linalg.norm(x-c)\n",
        "                if d < dmin:\n",
        "                    dmin = d\n",
        "                    nearest = near\n",
        "            \n",
        "            #Mise à jour du center et l'effectif par classe\n",
        "            new_centers = list(centers)\n",
        "            new_n = list(n)\n",
        "            new_centers[nearest] = new_centers[nearest] + (1/(new_n[nearest]+1))*(element[1]-new_centers[nearest])\n",
        "            new_n[nearest] = new_n[nearest]+1\n",
        "            myN.clear()\n",
        "            myCenters.clear()\n",
        "            for c1 in new_centers:\n",
        "                myCenters.add(c1)\n",
        "            for n1 in new_n:\n",
        "                myN.add(n1)\n",
        "            yield nearest"
      ]
    },
    {
      "cell_type": "code",
      "execution_count": null,
      "metadata": {
        "colab": {
          "base_uri": "https://localhost:8080/"
        },
        "id": "g_GoPmgRJ_qx",
        "outputId": "2176184b-963d-44bb-b3dd-e87274bf0633"
      },
      "outputs": [
        {
          "name": "stderr",
          "output_type": "stream",
          "text": [
            "WARNING:root:Make sure that locally built Python SDK docker image has Python 3.7 interpreter.\n"
          ]
        }
      ],
      "source": [
        "#Pipeline\n",
        "with beam.Pipeline() as pipeline:\n",
        "   classes = (\n",
        "      pipeline\n",
        "      | 'Coordinates' >> beam.Create(data)\n",
        "      | 'Random clusters' >> beam.Map(lambda x: (0, x))\n",
        "      | 'Clustering' >> beam.ParDo(KMeansSeq())\n",
        "    )\n",
        "   classes | beam.io.WriteToText(file_path_prefix='centers')"
      ]
    },
    {
      "cell_type": "code",
      "execution_count": null,
      "metadata": {
        "id": "nNa9kVbdL8II"
      },
      "outputs": [],
      "source": [
        "y=[]\n",
        "with open('/content/centers-00000-of-00001', 'r', newline='') as file:\n",
        "  rows = file.readlines()\n",
        "for i, row in enumerate(rows):\n",
        "  y.append(int(row))"
      ]
    },
    {
      "cell_type": "code",
      "execution_count": null,
      "metadata": {
        "colab": {
          "base_uri": "https://localhost:8080/"
        },
        "id": "jTSeh46-N0eU",
        "outputId": "b3b4884f-daf5-4699-d05f-ce0529d14330"
      },
      "outputs": [
        {
          "data": {
            "text/plain": [
              "0.475"
            ]
          },
          "execution_count": 38,
          "metadata": {},
          "output_type": "execute_result"
        }
      ],
      "source": [
        "# generate true labels : \n",
        "true_labelsE =np.repeat([0, 1], 100)\n",
        "accuracy_score(y,true_labelsE)"
      ]
    },
    {
      "cell_type": "markdown",
      "metadata": {
        "id": "tlZ71_yePeQV"
      },
      "source": [
        "# **Partie E : Implémentation d’une version streaming et distribuée de k-means (Apache Beam)**"
      ]
    },
    {
      "cell_type": "code",
      "execution_count": null,
      "metadata": {
        "id": "QaLOCyPIHh4b"
      },
      "outputs": [],
      "source": [
        "from sklearn.cluster import KMeans"
      ]
    },
    {
      "cell_type": "code",
      "execution_count": null,
      "metadata": {
        "id": "F7bxZ3gEPg6U"
      },
      "outputs": [],
      "source": [
        "from apache_beam.transforms.userstate import ReadModifyWriteStateSpec\n",
        "from apache_beam.transforms.userstate import CombiningValueStateSpec\n",
        "\n",
        "\n",
        "class MyClass2(beam.DoFn):\n",
        "\n",
        "  data = BagStateSpec(name='data',coder=beam.coders.PickleCoder())\n",
        "  cent = BagStateSpec(name='cent',coder=beam.coders.PickleCoder())\n",
        "  def process(self, element,\n",
        "              data=beam.DoFn.StateParam(data),\n",
        "              cent=beam.DoFn.StateParam(cent),\n",
        "              ):\n",
        "    \n",
        "    key,value = element\n",
        "\n",
        "    #lecture des états\n",
        "    X = list(data.read())\n",
        "    centers = list(cent.read())\n",
        "\n",
        "    #initialiser les centres que pour la première fois \n",
        "    if(len(X) == 0):\n",
        "      centers = []\n",
        "      P0 = np.random.choice([0, 1], size=(10,), p=[0.5, 0.5])\n",
        "      for k in range(0,2):\n",
        "        c = []\n",
        "        for i in range(0,len(P0)):\n",
        "          if (i in np.where(P == k)[0].tolist()):\n",
        "            c.append(value[i])\n",
        "        center = [sum(sub_list) / len(sub_list) for sub_list in zip(*c)]\n",
        "        centers.append(center)\n",
        "\n",
        "    # if taille de X inferieur à T =5 on insère le batch\n",
        "    if (len(X) < 5):\n",
        "      data.add(value)\n",
        "      X = list(data.read())\n",
        "\n",
        "    #sinon on remplace le batch le plus ancien (premier de la liste)\n",
        "    else:\n",
        "      X.pop(0)\n",
        "      X.append(value)\n",
        "      data.clear()\n",
        "      for x in X:\n",
        "        data.add(x)\n",
        "    \n",
        "    #assembling data (liste de listes ==> liste de points)\n",
        "    flat_data = [item for sublist in X for item in sublist]\n",
        "\n",
        "    # vecteur de poids\n",
        "    r_data = []\n",
        "    for i in range(len(X)-1,-1,-1):\n",
        "      r_batch = [r**i] * len(value)\n",
        "      r_data.append(r_batch)\n",
        "    flat_r_data = [item for sublist in r_data for item in sublist] \n",
        "\n",
        "    centers = np.asarray(centers).reshape((2,2))\n",
        "    kmeans = KMeans(n_clusters=2,init=centers,n_init=1).fit(flat_data,sample_weight=flat_r_data)\n",
        "    cent.clear()\n",
        "    cent.add(kmeans.cluster_centers_)\n",
        "\n",
        "    print(\"centers : \",kmeans.cluster_centers_)\n",
        "    print(\"labels : \",kmeans.labels_)\n",
        "    print(\"------------------------------------------------------------------------------------\")\n",
        "\n",
        "    yield kmeans.cluster_centers_ , kmeans.labels_"
      ]
    },
    {
      "cell_type": "code",
      "execution_count": null,
      "metadata": {
        "id": "elvheu4VQKvU"
      },
      "outputs": [],
      "source": [
        "# Hyper-paramètres :\n",
        "T = 5\n",
        "r = 5\n",
        "Batches2 = [\n",
        "           ((0,0), (1,1)),\n",
        "           ((15,17), (2,7),),\n",
        "           ((3,4), (10,4)),\n",
        "           ((22,5), (12,9))\n",
        "           ]"
      ]
    },
    {
      "cell_type": "code",
      "execution_count": null,
      "metadata": {
        "colab": {
          "base_uri": "https://localhost:8080/"
        },
        "id": "9wm9REmyFm3T",
        "outputId": "906a2114-77fc-4aa5-a883-20498fd79782"
      },
      "outputs": [
        {
          "name": "stderr",
          "output_type": "stream",
          "text": [
            "WARNING:root:Make sure that locally built Python SDK docker image has Python 3.7 interpreter.\n"
          ]
        },
        {
          "name": "stdout",
          "output_type": "stream",
          "text": [
            "centers :  [[0. 0.]\n",
            " [1. 1.]]\n",
            "labels :  [0 1]\n",
            "------------------------------------------------------------------------------------\n",
            "centers :  [[ 0.63636364  1.09090909]\n",
            " [15.         17.        ]]\n",
            "labels :  [0 0 1 0]\n",
            "------------------------------------------------------------------------------------\n",
            "centers :  [[ 0.84210526  1.19298246]\n",
            " [15.         17.        ]]\n",
            "labels :  [0 0 1 0 0 0]\n",
            "------------------------------------------------------------------------------------\n",
            "centers :  [[ 0.84210526  1.19298246]\n",
            " [15.14814815 16.25925926]]\n",
            "labels :  [0 0 1 0 0 0 1 1]\n",
            "------------------------------------------------------------------------------------\n"
          ]
        }
      ],
      "source": [
        "with beam.Pipeline() as pipeline:\n",
        "  data = (\n",
        "    pipeline\n",
        "    | \"Create\" >> beam.Create(Batches2)\n",
        "  )\n",
        "  (data\n",
        "    | 'Add key' >> beam.Map(lambda x: (0,(x)))\n",
        "    | \"Kmeans streaming et distribuée\" >> beam.ParDo(MyClass2())\n",
        "  )"
      ]
    }
  ],
  "metadata": {
    "colab": {
      "collapsed_sections": [
        "ruky3K3MpOTp",
        "Q-H1jFOGpXDx",
        "kSvicULxo1SB"
      ],
      "include_colab_link": true,
      "name": "Projet BIG DATA.ipynb",
      "provenance": []
    },
    "kernelspec": {
      "display_name": "Python 3.7.9 64-bit",
      "language": "python",
      "name": "python3"
    },
    "language_info": {
      "codemirror_mode": {
        "name": "ipython",
        "version": 3
      },
      "file_extension": ".py",
      "mimetype": "text/x-python",
      "name": "python",
      "nbconvert_exporter": "python",
      "pygments_lexer": "ipython3",
      "version": "3.7.9"
    },
    "vscode": {
      "interpreter": {
        "hash": "7eaef681e02a2dc19d85cc6ec270727c84f8c7c3952a0bbb6562c6b645b40814"
      }
    }
  },
  "nbformat": 4,
  "nbformat_minor": 0
}
